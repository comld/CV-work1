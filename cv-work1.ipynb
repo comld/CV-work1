{
 "cells": [
  {
   "cell_type": "markdown",
   "metadata": {},
   "source": [
    "## 导入需要的库"
   ]
  },
  {
   "cell_type": "code",
   "execution_count": null,
   "metadata": {},
   "outputs": [],
   "source": [
    "import os\n",
    "import cv2\n",
    "import logging\n",
    "import tensorflow as tf\n",
    "import face_recognition\n",
    "import math\n",
    "import numpy as np\n",
    "import dlib\n",
    "import PythonMagick\n",
    "import matplotlib.pyplot as plt\n",
    "from scipy import linalg,ndimage \n",
    "from numpy import array,zeros\n",
    "from PIL import Image "
   ]
  },
  {
   "cell_type": "markdown",
   "metadata": {},
   "source": [
    "## 变换计算过程"
   ]
  },
  {
   "cell_type": "code",
   "execution_count": null,
   "metadata": {},
   "outputs": [],
   "source": [
    "def compute_rigid_transform(rp,p):\n",
    "    A=array([[p[0],-p[1],1,0],[p[1],-p[0],0,1],\n",
    "             [p[2],-p[3],1,0],[p[3],-p[2],0,1],\n",
    "             [p[4],-p[5],1,0],[p[5],-p[4],0,1],\n",
    "             [p[6],-p[7],1,0],[p[7],-p[6],0,1],\n",
    "             [p[8],-p[9],1,0],[p[9],-p[8],0,1]])\n",
    "    y=array([rp[0],rp[1],rp[2],rp[3],rp[4],rp[5],rp[6],rp[7],rp[8],rp[9]])\n",
    "    a, b, tx, ty=linalg.lstsq(A,y)[0]\n",
    "    R=array([[a,-b],[b,a]])\n",
    "    return R,tx,ty"
   ]
  },
  {
   "cell_type": "markdown",
   "metadata": {},
   "source": [
    "## 计算人脸关键点"
   ]
  },
  {
   "cell_type": "code",
   "execution_count": null,
   "metadata": {},
   "outputs": [],
   "source": [
    "def calc_point(img):\n",
    "    predictor = dlib.shape_predictor(\"shape_predictor_68_face_landmarks.dat\")\n",
    "    detector = dlib.get_frontal_face_detector() \n",
    "    dets = detector(img, 1)\n",
    "    shape=[]\n",
    "    for i, d in enumerate(dets):\n",
    "         shape = predictor(np.uint8(img), d)\n",
    "    #人脸检测工具 可检测人脸中68个关键点\n",
    "    return shape"
   ]
  },
  {
   "cell_type": "markdown",
   "metadata": {},
   "source": [
    "## 定义人脸旋转函数"
   ]
  },
  {
   "cell_type": "code",
   "execution_count": null,
   "metadata": {},
   "outputs": [],
   "source": [
    "def rotate(img):\n",
    "    shape=calc_point(img)#检测人脸关键点\n",
    "    eye_center=((shape.part(36).x+shape.part(45).x)*1./2,(shape.part(36).y+shape.part(45).y)*1./2) # 计算两眼的中心坐标\n",
    "    dx=(shape.part(45).x-shape.part(36).x) \n",
    "    dy=(shape.part(45).y-shape.part(36).y)\n",
    "    angle=math.atan2(dy,dx)*180./math.pi # 计算角度\n",
    "    RotateMatrix=cv2.getRotationMatrix2D(eye_center,angle,scale=1) # 计算仿射矩阵\n",
    "    img=cv2.warpAffine(img, RotateMatrix,(img.shape[1], img.shape[0])) # 进行放射变换，即旋转\n",
    "    return img"
   ]
  },
  {
   "cell_type": "markdown",
   "metadata": {},
   "source": [
    "## 总体调用函数"
   ]
  },
  {
   "cell_type": "code",
   "execution_count": null,
   "metadata": {},
   "outputs": [],
   "source": [
    "def move(img):\n",
    "    shape = calc_point(img)#检测人脸关键点\n",
    "    order = [36, 45, 30, 48, 54]\n",
    "    #左眼 右眼 鼻子 左嘴角 右嘴角 所对应的坐标在关键点序列中的位置\n",
    "    p=[]\n",
    "    rp=[75,125,125,125,100,160,80,180,125,180]\n",
    "    #要对齐的坐标序列\n",
    "    for j in order:#构造向量\n",
    "        x = shape.part(j).x\n",
    "        y = shape.part(j).y\n",
    "        p.append(x)\n",
    "        p.append(y)\n",
    "    R,tx,ty=compute_rigid_transform(rp,p)\n",
    "    T=array([[R[1][1],R[1][0]],[R[0][1],R[0][0]]]) # 构造变换矩阵T\n",
    "    aff_img=zeros(img.shape,\"uint8\")\n",
    "    for i in range(len(img.shape)):\n",
    "        aff_img[:,:,i]=ndimage.affine_transform(img[:,:,i],linalg.inv(T),offset=[-ty,-tx])\n",
    "    #进行仿射变换\n",
    "    return aff_img"
   ]
  },
  {
   "cell_type": "markdown",
   "metadata": {},
   "source": [
    "## 对五张图片依次对齐"
   ]
  },
  {
   "cell_type": "code",
   "execution_count": null,
   "metadata": {},
   "outputs": [],
   "source": [
    "num=5\n",
    "for i in range(1,num+1):\n",
    "    filename=str(i)+\".jpg\"\n",
    "    img = PythonMagick.Image(filename)\n",
    "    img.sample('200x250!')\n",
    "    img.write(filename)\n",
    "    #对图片做预处理 调整为合适的大小\n",
    "    face_alignment(filename)\n",
    "    #人脸对齐操作"
   ]
  }
 ],
 "metadata": {
  "kernelspec": {
   "display_name": "Python 3",
   "language": "python",
   "name": "python3"
  },
  "language_info": {
   "codemirror_mode": {
    "name": "ipython",
    "version": 3
   },
   "file_extension": ".py",
   "mimetype": "text/x-python",
   "name": "python",
   "nbconvert_exporter": "python",
   "pygments_lexer": "ipython3",
   "version": "3.8.3"
  }
 },
 "nbformat": 4,
 "nbformat_minor": 4
}
